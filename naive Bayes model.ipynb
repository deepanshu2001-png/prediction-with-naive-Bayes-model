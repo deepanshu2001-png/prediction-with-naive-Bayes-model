{
 "cells": [
  {
   "cell_type": "code",
   "execution_count": 249,
   "metadata": {},
   "outputs": [],
   "source": [
    "#importing necessary python packages for the same\n",
    "%matplotlib inline\n",
    "import matplotlib.pyplot as plt\n",
    "import seaborn as sns\n",
    "import pandas as pd\n",
    "import numpy as np\n",
    "from sklearn.model_selection import train_test_split\n",
    "from sklearn.datasets import load_iris\n",
    "from sklearn.naive_bayes import GaussianNB\n",
    "from sklearn.linear_model import LinearRegression as lm\n",
    "from sklearn.metrics import accuracy_score\n",
    "from sklearn.metrics import mean_squared_error\n",
    "pd.set_option('display.max_columns', None)\n",
    "pd.set_option('display.max_rows', None)"
   ]
  },
  {
   "cell_type": "code",
   "execution_count": 250,
   "metadata": {},
   "outputs": [],
   "source": [
    "\n",
    "array = da.values"
   ]
  },
  {
   "cell_type": "code",
   "execution_count": 251,
   "metadata": {},
   "outputs": [],
   "source": [
    "#importing our dataset\n",
    "da = pd.read_csv(\"datasets_19_420_Iris.csv\")"
   ]
  },
  {
   "cell_type": "code",
   "execution_count": 252,
   "metadata": {},
   "outputs": [],
   "source": [
    "#removing species column from dataset\n",
    "da.drop([\"Species\"], axis = 1, inplace = True)"
   ]
  },
  {
   "cell_type": "code",
   "execution_count": 253,
   "metadata": {},
   "outputs": [
    {
     "data": {
      "text/plain": [
       "Id                 int64\n",
       "SepalLengthCm    float64\n",
       "SepalWidthCm     float64\n",
       "PetalLengthCm    float64\n",
       "PetalWidthCm     float64\n",
       "dtype: object"
      ]
     },
     "execution_count": 253,
     "metadata": {},
     "output_type": "execute_result"
    }
   ],
   "source": [
    "# to get idea of data types in each column\n",
    "da.dtypes"
   ]
  },
  {
   "cell_type": "code",
   "execution_count": 254,
   "metadata": {},
   "outputs": [
    {
     "data": {
      "text/plain": [
       "(150, 5)"
      ]
     },
     "execution_count": 254,
     "metadata": {},
     "output_type": "execute_result"
    }
   ],
   "source": [
    "# to know total rows and columns in given dataset\n",
    "da.shape"
   ]
  },
  {
   "cell_type": "code",
   "execution_count": 255,
   "metadata": {},
   "outputs": [
    {
     "data": {
      "text/plain": [
       "Index(['Id', 'SepalLengthCm', 'SepalWidthCm', 'PetalLengthCm', 'PetalWidthCm'], dtype='object')"
      ]
     },
     "execution_count": 255,
     "metadata": {},
     "output_type": "execute_result"
    }
   ],
   "source": [
    "# to get column names\n",
    "da.columns"
   ]
  },
  {
   "cell_type": "code",
   "execution_count": 256,
   "metadata": {},
   "outputs": [
    {
     "data": {
      "text/plain": [
       "<bound method NDFrame.head of       Id  SepalLengthCm  SepalWidthCm  PetalLengthCm  PetalWidthCm\n",
       "0      1            5.1           3.5            1.4           0.2\n",
       "1      2            4.9           3.0            1.4           0.2\n",
       "2      3            4.7           3.2            1.3           0.2\n",
       "3      4            4.6           3.1            1.5           0.2\n",
       "4      5            5.0           3.6            1.4           0.2\n",
       "5      6            5.4           3.9            1.7           0.4\n",
       "6      7            4.6           3.4            1.4           0.3\n",
       "7      8            5.0           3.4            1.5           0.2\n",
       "8      9            4.4           2.9            1.4           0.2\n",
       "9     10            4.9           3.1            1.5           0.1\n",
       "10    11            5.4           3.7            1.5           0.2\n",
       "11    12            4.8           3.4            1.6           0.2\n",
       "12    13            4.8           3.0            1.4           0.1\n",
       "13    14            4.3           3.0            1.1           0.1\n",
       "14    15            5.8           4.0            1.2           0.2\n",
       "15    16            5.7           4.4            1.5           0.4\n",
       "16    17            5.4           3.9            1.3           0.4\n",
       "17    18            5.1           3.5            1.4           0.3\n",
       "18    19            5.7           3.8            1.7           0.3\n",
       "19    20            5.1           3.8            1.5           0.3\n",
       "20    21            5.4           3.4            1.7           0.2\n",
       "21    22            5.1           3.7            1.5           0.4\n",
       "22    23            4.6           3.6            1.0           0.2\n",
       "23    24            5.1           3.3            1.7           0.5\n",
       "24    25            4.8           3.4            1.9           0.2\n",
       "25    26            5.0           3.0            1.6           0.2\n",
       "26    27            5.0           3.4            1.6           0.4\n",
       "27    28            5.2           3.5            1.5           0.2\n",
       "28    29            5.2           3.4            1.4           0.2\n",
       "29    30            4.7           3.2            1.6           0.2\n",
       "30    31            4.8           3.1            1.6           0.2\n",
       "31    32            5.4           3.4            1.5           0.4\n",
       "32    33            5.2           4.1            1.5           0.1\n",
       "33    34            5.5           4.2            1.4           0.2\n",
       "34    35            4.9           3.1            1.5           0.1\n",
       "35    36            5.0           3.2            1.2           0.2\n",
       "36    37            5.5           3.5            1.3           0.2\n",
       "37    38            4.9           3.1            1.5           0.1\n",
       "38    39            4.4           3.0            1.3           0.2\n",
       "39    40            5.1           3.4            1.5           0.2\n",
       "40    41            5.0           3.5            1.3           0.3\n",
       "41    42            4.5           2.3            1.3           0.3\n",
       "42    43            4.4           3.2            1.3           0.2\n",
       "43    44            5.0           3.5            1.6           0.6\n",
       "44    45            5.1           3.8            1.9           0.4\n",
       "45    46            4.8           3.0            1.4           0.3\n",
       "46    47            5.1           3.8            1.6           0.2\n",
       "47    48            4.6           3.2            1.4           0.2\n",
       "48    49            5.3           3.7            1.5           0.2\n",
       "49    50            5.0           3.3            1.4           0.2\n",
       "50    51            7.0           3.2            4.7           1.4\n",
       "51    52            6.4           3.2            4.5           1.5\n",
       "52    53            6.9           3.1            4.9           1.5\n",
       "53    54            5.5           2.3            4.0           1.3\n",
       "54    55            6.5           2.8            4.6           1.5\n",
       "55    56            5.7           2.8            4.5           1.3\n",
       "56    57            6.3           3.3            4.7           1.6\n",
       "57    58            4.9           2.4            3.3           1.0\n",
       "58    59            6.6           2.9            4.6           1.3\n",
       "59    60            5.2           2.7            3.9           1.4\n",
       "60    61            5.0           2.0            3.5           1.0\n",
       "61    62            5.9           3.0            4.2           1.5\n",
       "62    63            6.0           2.2            4.0           1.0\n",
       "63    64            6.1           2.9            4.7           1.4\n",
       "64    65            5.6           2.9            3.6           1.3\n",
       "65    66            6.7           3.1            4.4           1.4\n",
       "66    67            5.6           3.0            4.5           1.5\n",
       "67    68            5.8           2.7            4.1           1.0\n",
       "68    69            6.2           2.2            4.5           1.5\n",
       "69    70            5.6           2.5            3.9           1.1\n",
       "70    71            5.9           3.2            4.8           1.8\n",
       "71    72            6.1           2.8            4.0           1.3\n",
       "72    73            6.3           2.5            4.9           1.5\n",
       "73    74            6.1           2.8            4.7           1.2\n",
       "74    75            6.4           2.9            4.3           1.3\n",
       "75    76            6.6           3.0            4.4           1.4\n",
       "76    77            6.8           2.8            4.8           1.4\n",
       "77    78            6.7           3.0            5.0           1.7\n",
       "78    79            6.0           2.9            4.5           1.5\n",
       "79    80            5.7           2.6            3.5           1.0\n",
       "80    81            5.5           2.4            3.8           1.1\n",
       "81    82            5.5           2.4            3.7           1.0\n",
       "82    83            5.8           2.7            3.9           1.2\n",
       "83    84            6.0           2.7            5.1           1.6\n",
       "84    85            5.4           3.0            4.5           1.5\n",
       "85    86            6.0           3.4            4.5           1.6\n",
       "86    87            6.7           3.1            4.7           1.5\n",
       "87    88            6.3           2.3            4.4           1.3\n",
       "88    89            5.6           3.0            4.1           1.3\n",
       "89    90            5.5           2.5            4.0           1.3\n",
       "90    91            5.5           2.6            4.4           1.2\n",
       "91    92            6.1           3.0            4.6           1.4\n",
       "92    93            5.8           2.6            4.0           1.2\n",
       "93    94            5.0           2.3            3.3           1.0\n",
       "94    95            5.6           2.7            4.2           1.3\n",
       "95    96            5.7           3.0            4.2           1.2\n",
       "96    97            5.7           2.9            4.2           1.3\n",
       "97    98            6.2           2.9            4.3           1.3\n",
       "98    99            5.1           2.5            3.0           1.1\n",
       "99   100            5.7           2.8            4.1           1.3\n",
       "100  101            6.3           3.3            6.0           2.5\n",
       "101  102            5.8           2.7            5.1           1.9\n",
       "102  103            7.1           3.0            5.9           2.1\n",
       "103  104            6.3           2.9            5.6           1.8\n",
       "104  105            6.5           3.0            5.8           2.2\n",
       "105  106            7.6           3.0            6.6           2.1\n",
       "106  107            4.9           2.5            4.5           1.7\n",
       "107  108            7.3           2.9            6.3           1.8\n",
       "108  109            6.7           2.5            5.8           1.8\n",
       "109  110            7.2           3.6            6.1           2.5\n",
       "110  111            6.5           3.2            5.1           2.0\n",
       "111  112            6.4           2.7            5.3           1.9\n",
       "112  113            6.8           3.0            5.5           2.1\n",
       "113  114            5.7           2.5            5.0           2.0\n",
       "114  115            5.8           2.8            5.1           2.4\n",
       "115  116            6.4           3.2            5.3           2.3\n",
       "116  117            6.5           3.0            5.5           1.8\n",
       "117  118            7.7           3.8            6.7           2.2\n",
       "118  119            7.7           2.6            6.9           2.3\n",
       "119  120            6.0           2.2            5.0           1.5\n",
       "120  121            6.9           3.2            5.7           2.3\n",
       "121  122            5.6           2.8            4.9           2.0\n",
       "122  123            7.7           2.8            6.7           2.0\n",
       "123  124            6.3           2.7            4.9           1.8\n",
       "124  125            6.7           3.3            5.7           2.1\n",
       "125  126            7.2           3.2            6.0           1.8\n",
       "126  127            6.2           2.8            4.8           1.8\n",
       "127  128            6.1           3.0            4.9           1.8\n",
       "128  129            6.4           2.8            5.6           2.1\n",
       "129  130            7.2           3.0            5.8           1.6\n",
       "130  131            7.4           2.8            6.1           1.9\n",
       "131  132            7.9           3.8            6.4           2.0\n",
       "132  133            6.4           2.8            5.6           2.2\n",
       "133  134            6.3           2.8            5.1           1.5\n",
       "134  135            6.1           2.6            5.6           1.4\n",
       "135  136            7.7           3.0            6.1           2.3\n",
       "136  137            6.3           3.4            5.6           2.4\n",
       "137  138            6.4           3.1            5.5           1.8\n",
       "138  139            6.0           3.0            4.8           1.8\n",
       "139  140            6.9           3.1            5.4           2.1\n",
       "140  141            6.7           3.1            5.6           2.4\n",
       "141  142            6.9           3.1            5.1           2.3\n",
       "142  143            5.8           2.7            5.1           1.9\n",
       "143  144            6.8           3.2            5.9           2.3\n",
       "144  145            6.7           3.3            5.7           2.5\n",
       "145  146            6.7           3.0            5.2           2.3\n",
       "146  147            6.3           2.5            5.0           1.9\n",
       "147  148            6.5           3.0            5.2           2.0\n",
       "148  149            6.2           3.4            5.4           2.3\n",
       "149  150            5.9           3.0            5.1           1.8>"
      ]
     },
     "execution_count": 256,
     "metadata": {},
     "output_type": "execute_result"
    }
   ],
   "source": [
    "\n",
    "da.head"
   ]
  },
  {
   "cell_type": "code",
   "execution_count": 265,
   "metadata": {},
   "outputs": [],
   "source": [
    "#Storing the split data into separate variables\n",
    "## taking only \"SepalLengthCm\" variable for our naive bayes model\n",
    "y = da.SepalLengthCm\n",
    "x = da.drop('SepalLengthCm',axis=1)"
   ]
  },
  {
   "cell_type": "code",
   "execution_count": 268,
   "metadata": {},
   "outputs": [
    {
     "data": {
      "text/html": [
       "<div>\n",
       "<style scoped>\n",
       "    .dataframe tbody tr th:only-of-type {\n",
       "        vertical-align: middle;\n",
       "    }\n",
       "\n",
       "    .dataframe tbody tr th {\n",
       "        vertical-align: top;\n",
       "    }\n",
       "\n",
       "    .dataframe thead th {\n",
       "        text-align: right;\n",
       "    }\n",
       "</style>\n",
       "<table border=\"1\" class=\"dataframe\">\n",
       "  <thead>\n",
       "    <tr style=\"text-align: right;\">\n",
       "      <th></th>\n",
       "      <th>Id</th>\n",
       "      <th>SepalWidthCm</th>\n",
       "      <th>PetalLengthCm</th>\n",
       "      <th>PetalWidthCm</th>\n",
       "    </tr>\n",
       "  </thead>\n",
       "  <tbody>\n",
       "    <tr>\n",
       "      <th>6</th>\n",
       "      <td>7</td>\n",
       "      <td>3.4</td>\n",
       "      <td>1.4</td>\n",
       "      <td>0.3</td>\n",
       "    </tr>\n",
       "    <tr>\n",
       "      <th>77</th>\n",
       "      <td>78</td>\n",
       "      <td>3.0</td>\n",
       "      <td>5.0</td>\n",
       "      <td>1.7</td>\n",
       "    </tr>\n",
       "    <tr>\n",
       "      <th>115</th>\n",
       "      <td>116</td>\n",
       "      <td>3.2</td>\n",
       "      <td>5.3</td>\n",
       "      <td>2.3</td>\n",
       "    </tr>\n",
       "    <tr>\n",
       "      <th>95</th>\n",
       "      <td>96</td>\n",
       "      <td>3.0</td>\n",
       "      <td>4.2</td>\n",
       "      <td>1.2</td>\n",
       "    </tr>\n",
       "    <tr>\n",
       "      <th>44</th>\n",
       "      <td>45</td>\n",
       "      <td>3.8</td>\n",
       "      <td>1.9</td>\n",
       "      <td>0.4</td>\n",
       "    </tr>\n",
       "  </tbody>\n",
       "</table>\n",
       "</div>"
      ],
      "text/plain": [
       "      Id  SepalWidthCm  PetalLengthCm  PetalWidthCm\n",
       "6      7           3.4            1.4           0.3\n",
       "77    78           3.0            5.0           1.7\n",
       "115  116           3.2            5.3           2.3\n",
       "95    96           3.0            4.2           1.2\n",
       "44    45           3.8            1.9           0.4"
      ]
     },
     "execution_count": 268,
     "metadata": {},
     "output_type": "execute_result"
    }
   ],
   "source": [
    "# Data pre-processing\n",
    "x_train,x_test,y_train,y_test=train_test_split(x,y,test_size=0.2)\n",
    "x_train.head()"
   ]
  },
  {
   "cell_type": "code",
   "execution_count": 267,
   "metadata": {},
   "outputs": [
    {
     "data": {
      "text/plain": [
       "15     5.7\n",
       "60     5.0\n",
       "29     4.7\n",
       "70     5.9\n",
       "3      4.6\n",
       "86     6.7\n",
       "74     6.4\n",
       "130    7.4\n",
       "141    6.9\n",
       "4      5.0\n",
       "107    7.3\n",
       "9      4.9\n",
       "45     4.8\n",
       "64     5.6\n",
       "117    7.7\n",
       "79     5.7\n",
       "113    5.7\n",
       "58     6.6\n",
       "11     4.8\n",
       "68     6.2\n",
       "99     5.7\n",
       "25     5.0\n",
       "140    6.7\n",
       "88     5.6\n",
       "109    7.2\n",
       "144    6.7\n",
       "108    6.7\n",
       "105    7.6\n",
       "63     6.1\n",
       "65     6.7\n",
       "26     5.0\n",
       "23     5.1\n",
       "110    6.5\n",
       "114    5.8\n",
       "118    7.7\n",
       "96     5.7\n",
       "13     4.3\n",
       "123    6.3\n",
       "69     5.6\n",
       "90     5.5\n",
       "76     6.8\n",
       "124    6.7\n",
       "31     5.4\n",
       "125    7.2\n",
       "67     5.8\n",
       "17     5.1\n",
       "18     5.7\n",
       "24     4.8\n",
       "49     5.0\n",
       "16     5.4\n",
       "134    6.1\n",
       "112    6.8\n",
       "59     5.2\n",
       "136    6.3\n",
       "39     5.1\n",
       "51     6.4\n",
       "55     5.7\n",
       "133    6.3\n",
       "126    6.2\n",
       "131    7.9\n",
       "128    6.4\n",
       "56     6.3\n",
       "5      5.4\n",
       "121    5.6\n",
       "138    6.0\n",
       "34     4.9\n",
       "102    7.1\n",
       "95     5.7\n",
       "38     4.4\n",
       "106    4.9\n",
       "83     6.0\n",
       "137    6.4\n",
       "10     5.4\n",
       "78     6.0\n",
       "104    6.5\n",
       "148    6.2\n",
       "93     5.0\n",
       "91     6.1\n",
       "143    6.8\n",
       "32     5.2\n",
       "122    7.7\n",
       "72     6.3\n",
       "30     4.8\n",
       "116    6.5\n",
       "84     5.4\n",
       "145    6.7\n",
       "147    6.5\n",
       "115    6.4\n",
       "8      4.4\n",
       "19     5.1\n",
       "98     5.1\n",
       "28     5.2\n",
       "97     6.2\n",
       "149    5.9\n",
       "139    6.9\n",
       "57     4.9\n",
       "53     5.5\n",
       "44     5.1\n",
       "101    5.8\n",
       "129    7.2\n",
       "73     6.1\n",
       "40     5.0\n",
       "42     4.4\n",
       "119    6.0\n",
       "50     7.0\n",
       "85     6.0\n",
       "146    6.3\n",
       "36     5.5\n",
       "35     5.0\n",
       "12     4.8\n",
       "1      4.9\n",
       "52     6.9\n",
       "82     5.8\n",
       "135    7.7\n",
       "89     5.5\n",
       "66     5.6\n",
       "37     4.9\n",
       "2      4.7\n",
       "22     4.6\n",
       "120    6.9\n",
       "Name: SepalLengthCm, dtype: float64"
      ]
     },
     "execution_count": 267,
     "metadata": {},
     "output_type": "execute_result"
    }
   ],
   "source": [
    "# our y_train data\n",
    "y_train"
   ]
  },
  {
   "cell_type": "code",
   "execution_count": 269,
   "metadata": {},
   "outputs": [],
   "source": [
    "# Training our data (naives bayes model)\n",
    "model = GaussianNB()"
   ]
  },
  {
   "cell_type": "code",
   "execution_count": 270,
   "metadata": {},
   "outputs": [],
   "source": [
    "# applying linear regression to fit our data in training and test set\n",
    "model=lm().fit(x_train,y_train)"
   ]
  },
  {
   "cell_type": "code",
   "execution_count": 272,
   "metadata": {},
   "outputs": [
    {
     "data": {
      "text/plain": [
       "array([6.40237552, 6.08651226, 5.55685936, 6.44957142, 6.20949805,\n",
       "       5.94804534, 7.92521407, 5.55639978, 5.87567079, 6.31466476,\n",
       "       5.14303171, 6.28614836, 5.19756688, 5.10938592, 6.7066383 ,\n",
       "       5.97538996, 6.51758292, 4.73707431, 6.35531486, 4.88014002,\n",
       "       5.05361414, 4.89625607, 5.18903237, 6.81298832, 4.78474352,\n",
       "       6.40516043, 6.77451522, 5.66438208, 5.44285781, 7.27648214])"
      ]
     },
     "execution_count": 272,
     "metadata": {},
     "output_type": "execute_result"
    }
   ],
   "source": [
    "# predicting the data model for a testing dataset\n",
    "y_pred=model.predict(x_test)\n",
    "y_pred"
   ]
  },
  {
   "cell_type": "code",
   "execution_count": 275,
   "metadata": {},
   "outputs": [
    {
     "data": {
      "text/plain": [
       "<matplotlib.collections.PathCollection at 0x150e3ce8>"
      ]
     },
     "execution_count": 275,
     "metadata": {},
     "output_type": "execute_result"
    },
    {
     "data": {
      "image/png": "[encoded data removed]",
      "text/plain": [
       "<Figure size 432x288 with 1 Axes>"
      ]
     },
     "metadata": {
      "needs_background": "light"
     },
     "output_type": "display_data"
    }
   ],
   "source": [
    "# pltting scatterplot for our training dataset\n",
    "plt.scatter(y_train,predictions)"
   ]
  },
  {
   "cell_type": "code",
   "execution_count": 277,
   "metadata": {},
   "outputs": [
    {
     "name": "stdout",
     "output_type": "stream",
     "text": [
      "0.11678870914426255\n"
     ]
    }
   ],
   "source": [
    "# Model Evaluation\n",
    "print(mean_squared_error(y_test, y_pred))\n",
    "\n",
    "\n"
   ]
  },
  {
   "cell_type": "code",
   "execution_count": null,
   "metadata": {},
   "outputs": [],
   "source": []
  },
  {
   "cell_type": "code",
   "execution_count": null,
   "metadata": {},
   "outputs": [],
   "source": []
  },
  {
   "cell_type": "code",
   "execution_count": null,
   "metadata": {},
   "outputs": [],
   "source": []
  },
  {
   "cell_type": "code",
   "execution_count": null,
   "metadata": {},
   "outputs": [],
   "source": []
  },
  {
   "cell_type": "code",
   "execution_count": null,
   "metadata": {},
   "outputs": [],
   "source": []
  },
  {
   "cell_type": "code",
   "execution_count": null,
   "metadata": {},
   "outputs": [],
   "source": []
  },
  {
   "cell_type": "code",
   "execution_count": null,
   "metadata": {},
   "outputs": [],
   "source": []
  }
 ],
 "metadata": {
  "kernelspec": {
   "display_name": "Python 2",
   "language": "python",
   "name": "python2"
  },
  "language_info": {
   "codemirror_mode": {
    "name": "ipython",
    "version": 2
   },
   "file_extension": ".py",
   "mimetype": "text/x-python",
   "name": "python",
   "nbconvert_exporter": "python",
   "pygments_lexer": "ipython2",
   "version": "2.7.12"
  }
 },
 "nbformat": 4,
 "nbformat_minor": 4
}
